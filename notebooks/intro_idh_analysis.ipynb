{
 "cells": [
  {
   "cell_type": "markdown",
   "id": "206507da",
   "metadata": {},
   "source": [
    "# 🌍 Human Development and Global Health: An Exploratory Data Analysis\n",
    "## 📘 Introduction\n",
    "The Human Development Index (HDI) is a composite measure of a country's development, based on three main dimensions: health, education, and income.\n",
    "This project explores how HDI relates specifically to health indicators, focusing on life expectancy, child mortality, and health expenditure.\n",
    "We aim to understand if and how a country's health outcomes correlate with its development level."
   ]
  },
  {
   "cell_type": "markdown",
   "id": "e6185ae9",
   "metadata": {},
   "source": [
    "---\n",
    "## 🎯 Objectives\n",
    "- Explore global HDI data by country and region.\n",
    "- Analyze the relationship between HDI and life expectancy.\n",
    "- Investigate the correlation between HDI and other health indicators (e.g. child mortality, public health spending).\n",
    "- Create clear, impactful visualizations that support data-driven insights."
   ]
  },
  {
   "cell_type": "markdown",
   "id": "21e38a87",
   "metadata": {},
   "source": [
    "---\n",
    "\n",
    "## ❓ Key Questions\n",
    "\n",
    "- How does HDI vary across countries and world regions?\n",
    "- What is the relationship between HDI and life expectancy?\n",
    "- Do countries with higher health expenditure have higher HDI?\n",
    "- Is there a correlation between HDI and child mortality rates?\n",
    "- Which countries have made the most progress in HDI over the years?"
   ]
  },
  {
   "cell_type": "markdown",
   "id": "939d0b1d",
   "metadata": {},
   "source": [
    "---\n",
    "## 🧭 Data Sources\n",
    "\n",
    "- **HDI Data**: United Nations Development Programme (UNDP)  \n",
    "  [https://hdr.undp.org/data-center](https://hdr.undp.org/data-center)\n",
    "\n",
    "- **Health Indicators**:  \n",
    "  - Life expectancy: UNDP  \n",
    "  - Child mortality: Our World in Data  \n",
    "  - Health expenditure: World Bank / OWID\n",
    "\n",
    "Datasets used in this project are stored in the `data/` directory."
   ]
  },
  {
   "cell_type": "markdown",
   "id": "0bb7609c",
   "metadata": {},
   "source": [
    "---\n",
    "## 🗂️ Project Structure\n"
   ]
  },
  {
   "cell_type": "code",
   "execution_count": null,
   "id": "7e91a105",
   "metadata": {
    "vscode": {
     "languageId": "plaintext"
    }
   },
   "outputs": [],
   "source": [
    "|── idh-DataExplorer/\n",
    "   ├── data/\n",
    "   ├── raw/ \n",
    "   │ └── processed/ \n",
    "   ├── notebooks/\n",
    "   │ └── idh_analysis.ipynb \n",
    "   ├── scripts/\n",
    "   │ └── scrape_hdi.py \n",
    "   ├── visuals/ \n",
    "   ├── reports/ \n",
    "   ├── requirements.txt\n",
    "   ├── .gitignore\n",
    "   └── README.md"
   ]
  }
 ],
 "metadata": {
  "language_info": {
   "name": "python"
  }
 },
 "nbformat": 4,
 "nbformat_minor": 5
}
